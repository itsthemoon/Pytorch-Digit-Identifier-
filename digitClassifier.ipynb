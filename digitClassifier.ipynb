{
  "nbformat": 4,
  "nbformat_minor": 0,
  "metadata": {
    "colab": {
      "name": "digitClassifier.ipynb",
      "provenance": [],
      "collapsed_sections": [],
      "authorship_tag": "ABX9TyMnU9ZD0PARXXyeyLSqji/w",
      "include_colab_link": true
    },
    "kernelspec": {
      "name": "python3",
      "display_name": "Python 3"
    },
    "language_info": {
      "name": "python"
    },
    "accelerator": "GPU"
  },
  "cells": [
    {
      "cell_type": "markdown",
      "metadata": {
        "id": "view-in-github",
        "colab_type": "text"
      },
      "source": [
        "<a href=\"https://colab.research.google.com/github/itsthemoon/Pytorch-Digit-Identifier-/blob/main/digitClassifier.ipynb\" target=\"_parent\"><img src=\"https://colab.research.google.com/assets/colab-badge.svg\" alt=\"Open In Colab\"/></a>"
      ]
    },
    {
      "cell_type": "code",
      "source": [
        "pip install torchinfo"
      ],
      "metadata": {
        "id": "cCvUMFD8NN8o"
      },
      "execution_count": null,
      "outputs": []
    },
    {
      "cell_type": "code",
      "metadata": {
        "id": "ASD4OQXmeGWJ"
      },
      "source": [
        "import torch\n",
        "from torchvision import datasets, transforms\n",
        "import torch.nn as nn\n",
        "import torch.nn.functional as F\n",
        "import torch.optim as optim\n",
        "import matplotlib.pyplot as plt \n",
        "from torchinfo import summary"
      ],
      "execution_count": 39,
      "outputs": []
    },
    {
      "cell_type": "code",
      "source": [
        "training = datasets.MNIST(\"\", train=True, download=True, \n",
        "                        transform = transforms.Compose([transforms.ToTensor()]))\n",
        "testing = datasets.MNIST(\"\", train=False, download=True, \n",
        "                        transform = transforms.Compose([transforms.ToTensor()]))"
      ],
      "metadata": {
        "id": "Ewu3I1hIUOsK"
      },
      "execution_count": null,
      "outputs": []
    },
    {
      "cell_type": "code",
      "source": [
        "train_set = torch.utils.data.DataLoader(training, batch_size=10, shuffle=True)\n",
        "test_set = torch.utils.data.DataLoader(testing, batch_size=10, shuffle=True)"
      ],
      "metadata": {
        "id": "wks3tO1zWBoC"
      },
      "execution_count": 5,
      "outputs": []
    },
    {
      "cell_type": "code",
      "source": [
        "# Get cpu or gpu device for training.\n",
        "device = \"cuda\" if torch.cuda.is_available() else \"cpu\"\n",
        "print(\"Using {} device\".format(device))"
      ],
      "metadata": {
        "id": "uu7pecIha1AZ"
      },
      "execution_count": null,
      "outputs": []
    },
    {
      "cell_type": "code",
      "source": [
        "class Network(nn.Module):\n",
        "  def __init__(self):\n",
        "    super().__init__()\n",
        "    #image 28 x 28 = 784\n",
        "    self.pool = nn.MaxPool2d(2, 2)\n",
        "    self.conv1 = nn.Conv2d(1, 10, 5)\n",
        "    self.conv2 = nn.Conv2d(10, 50, 5)\n",
        "    self.conv3 = nn.Conv2d(50, 200, 5)\n",
        "    self.fc = nn.Linear(800,10)\n",
        "\n",
        "\n",
        "  def forward(self, x):\n",
        "    x = self.pool(F.relu(self.conv1(x)))\n",
        "    x = F.relu(self.conv2(x))\n",
        "    x = self.pool(F.relu(self.conv3(x)))\n",
        "    x = x.view(-1, 800)\n",
        "    x = self.fc(x)\n",
        "    x = F.softmax(x,dim=1)\n",
        "    return x\n",
        "\n",
        "net = Network()\n",
        "summary(net,input_size=(1,1,28,28))"
      ],
      "metadata": {
        "id": "mONG0AFYWkte"
      },
      "execution_count": null,
      "outputs": []
    },
    {
      "cell_type": "code",
      "source": [
        "network = Network().to(device)\n",
        "learn_rate = optim.Adam(network.parameters(), lr=0.001)\n",
        "epochs = 10"
      ],
      "metadata": {
        "id": "LkX5lIN-YMv1"
      },
      "execution_count": 48,
      "outputs": []
    },
    {
      "cell_type": "code",
      "source": [
        "for i in range(epochs):\n",
        "  for data in train_set:\n",
        "    image, output = data\n",
        "    image, output = image.to(device), output.to(device)\n",
        "    network.zero_grad()\n",
        "    pred = network(image)\n",
        "    loss = F.nll_loss(pred, output)\n",
        "    loss.backward()\n",
        "    learn_rate.step()\n",
        "  print(loss.item())"
      ],
      "metadata": {
        "id": "mJLpeZisYrUS"
      },
      "execution_count": null,
      "outputs": []
    },
    {
      "cell_type": "code",
      "source": [
        "network.eval() #tells torch we are in evaluate mode (probably need to research this more)\n",
        "correct = 0\n",
        "total = 0\n",
        "with torch.no_grad():\n",
        "  for data in test_set:\n",
        "    image, output = data\n",
        "    image, output = image.to(device), output.to(device)\n",
        "    result = network(image)\n",
        "    for index, tensor_value in enumerate(result):\n",
        "      total += 1\n",
        "      if torch.argmax(tensor_value) == output[index]:\n",
        "        correct += 1\n",
        "\n",
        "accuracy = correct / total \n",
        "print(f\"Accuracy: {accuracy}\")\n"
      ],
      "metadata": {
        "id": "V8QCO5SIgSNz"
      },
      "execution_count": null,
      "outputs": []
    },
    {
      "cell_type": "code",
      "source": [
        "#image processing\n",
        "from PIL import Image\n",
        "import numpy as np\n",
        "import PIL.ImageOps   \n",
        "\n",
        "img = Image.open(\"test3.png\")\n",
        "img = img.resize((28,28))\n",
        "img = img.convert(\"L\")\n",
        "img = PIL.ImageOps.invert(img)\n",
        "\n",
        "plt.imshow(img)\n",
        "img = np.array(img)\n",
        "img = img / 255\n",
        "image = torch.from_numpy(img)\n",
        "image = image.float()\n",
        "image = image.to(device)\n",
        "#the unsqueeze just makes the \n",
        "image = image.unsqueeze(0) \n",
        "image = image.unsqueeze(0) \n",
        "\n",
        "\n",
        "result = network.forward(image)\n",
        "print(torch.argmax(result))"
      ],
      "metadata": {
        "id": "NTD8jubKzsAM"
      },
      "execution_count": null,
      "outputs": []
    }
  ]
}